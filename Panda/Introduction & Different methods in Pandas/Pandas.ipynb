{
 "cells": [
  {
   "cell_type": "markdown",
   "id": "5595801f",
   "metadata": {},
   "source": [
    "<img src=\"https://encrypted-tbn0.gstatic.com/images?q=tbn%3AANd9GcShYvd6EGuSC3rbnEC0S-uyyVJdeuBDJnB8oUoKzeVXgj_Rx34A\" style=\"position:center\"/>\n",
    "<h1 style=\"color:green\">What is pandas ?</h1>\n",
    "<p style= \"font-size:18px\">\n",
    "    Pandas is an open source library in python used mainly for the purpose of data analysis, data manipulation and data exploration\n",
    "</p>\n",
    "<p style= \"font-size:15px\">\n",
    "    The readme in the official pandas github repository describes pandas as a Python package providing fast, flexible, and expressive data structures designed to make working with “relational” or “labeled” data both easy and intuitive. It aims to be the fundamental high-level building block for doing practical, real world data analysis in Python. Additionally, it has the broader goal of becoming the most powerful and flexible open source data analysis / manipulation tool available in any language.\n",
    "</p>\n",
    "\n",
    "<h2 style=\"color:green\">When can I use pandas?</h2>\n",
    "<ol style= \"font-size:16px\">\n",
    "    <li>Calculate statistics and answer questions about the data, like\n",
    "        <ul>\n",
    "        <li>What's the average, median, max, or min of each column?</li>\n",
    "        <li>Does column A correlate with column B?</li>\n",
    "        <li>What does the distribution of data in column C look like?</li>\n",
    "        </ul>\n",
    "    </li>\n",
    "    <li>Clean the data by doing things like removing missing values and filtering rows or columns by some criteria</li>\n",
    "    <li>Visualize the data with help from Matplotlib. Plot bars, lines, histograms, bubbles, and more.</li>\n",
    "    <li> Store the cleaned, transformed data back into a CSV, other file or database</li>\n",
    "</ol>\n",
    "\n",
    "<h2 style=\"color:green\">What is so great about Pandas?</h2>\n",
    "<ol style= \"font-size:16px\">\n",
    "    <li>It has got tons of functionality to help you in every possible scenario.</li>\n",
    "    <li>Kickass documentation</li>\n",
    "    <li>Open Source - Active community and active development.</li>\n",
    "    <li>Plays well with other libraries like numpy and scikit.learn</li>\n",
    "</ol>\n",
    "<hr>"
   ]
  },
  {
   "cell_type": "markdown",
   "id": "9b227983",
   "metadata": {},
   "source": [
    "<h1 style=\"color:red\">Importing Stuff</h1>"
   ]
  },
  {
   "cell_type": "markdown",
   "id": "f70726e8",
   "metadata": {},
   "source": [
    "### 1. Import Libraries"
   ]
  },
  {
   "cell_type": "code",
   "execution_count": 1,
   "id": "12085b62",
   "metadata": {},
   "outputs": [],
   "source": [
    "import numpy as np\n",
    "import pandas as pd\n",
    "import matplotlib.pyplot as plt"
   ]
  },
  {
   "cell_type": "markdown",
   "id": "ab529dbf",
   "metadata": {},
   "source": [
    "### 2. Importing Datasets"
   ]
  },
  {
   "cell_type": "code",
   "execution_count": 2,
   "id": "8e9b28e8",
   "metadata": {},
   "outputs": [],
   "source": [
    "match=pd.read_csv('matches.csv')\n",
    "delivery=pd.read_csv('deliveries.csv')\n",
    "company=pd.read_csv('Fortune501.csv')\n",
    "titanic=pd.read_csv('titanic.csv')\n",
    "food=pd.read_csv('food.csv')"
   ]
  },
  {
   "cell_type": "markdown",
   "id": "9708fa44",
   "metadata": {},
   "source": [
    "## 1. Shape of the Datasets"
   ]
  },
  {
   "cell_type": "code",
   "execution_count": 3,
   "id": "c0d0a296",
   "metadata": {},
   "outputs": [
    {
     "data": {
      "text/plain": [
       "(636, 18)"
      ]
     },
     "execution_count": 3,
     "metadata": {},
     "output_type": "execute_result"
    }
   ],
   "source": [
    "match.shape"
   ]
  },
  {
   "cell_type": "code",
   "execution_count": 4,
   "id": "e275cf89",
   "metadata": {},
   "outputs": [
    {
     "data": {
      "text/plain": [
       "(150460, 21)"
      ]
     },
     "execution_count": 4,
     "metadata": {},
     "output_type": "execute_result"
    }
   ],
   "source": [
    "delivery.shape"
   ]
  },
  {
   "cell_type": "code",
   "execution_count": 5,
   "id": "e68d49ed",
   "metadata": {},
   "outputs": [
    {
     "data": {
      "text/plain": [
       "(500, 8)"
      ]
     },
     "execution_count": 5,
     "metadata": {},
     "output_type": "execute_result"
    }
   ],
   "source": [
    "company.shape"
   ]
  },
  {
   "cell_type": "code",
   "execution_count": 6,
   "id": "661a1096",
   "metadata": {},
   "outputs": [
    {
     "data": {
      "text/plain": [
       "(891, 12)"
      ]
     },
     "execution_count": 6,
     "metadata": {},
     "output_type": "execute_result"
    }
   ],
   "source": [
    "titanic.shape"
   ]
  },
  {
   "cell_type": "code",
   "execution_count": 7,
   "id": "74b8ec67",
   "metadata": {},
   "outputs": [
    {
     "data": {
      "text/plain": [
       "(50, 6)"
      ]
     },
     "execution_count": 7,
     "metadata": {},
     "output_type": "execute_result"
    }
   ],
   "source": [
    "food.shape"
   ]
  },
  {
   "cell_type": "markdown",
   "id": "17da9283",
   "metadata": {},
   "source": [
    "## 2. Column name of the Datasets"
   ]
  },
  {
   "cell_type": "code",
   "execution_count": 8,
   "id": "f64fb402",
   "metadata": {},
   "outputs": [
    {
     "data": {
      "text/plain": [
       "Index(['id', 'season', 'city', 'date', 'team1', 'team2', 'toss_winner',\n",
       "       'toss_decision', 'result', 'dl_applied', 'winner', 'win_by_runs',\n",
       "       'win_by_wickets', 'player_of_match', 'venue', 'umpire1', 'umpire2',\n",
       "       'umpire3'],\n",
       "      dtype='object')"
      ]
     },
     "execution_count": 8,
     "metadata": {},
     "output_type": "execute_result"
    }
   ],
   "source": [
    "match.columns"
   ]
  },
  {
   "cell_type": "code",
   "execution_count": 9,
   "id": "9c7f7db6",
   "metadata": {},
   "outputs": [
    {
     "data": {
      "text/plain": [
       "Index(['match_id', 'inning', 'batting_team', 'bowling_team', 'over', 'ball',\n",
       "       'batsman', 'non_striker', 'bowler', 'is_super_over', 'wide_runs',\n",
       "       'bye_runs', 'legbye_runs', 'noball_runs', 'penalty_runs',\n",
       "       'batsman_runs', 'extra_runs', 'total_runs', 'player_dismissed',\n",
       "       'dismissal_kind', 'fielder'],\n",
       "      dtype='object')"
      ]
     },
     "execution_count": 9,
     "metadata": {},
     "output_type": "execute_result"
    }
   ],
   "source": [
    "delivery.columns"
   ]
  },
  {
   "cell_type": "code",
   "execution_count": 10,
   "id": "b4fd5f82",
   "metadata": {},
   "outputs": [
    {
     "data": {
      "text/plain": [
       "Index(['Rank', 'Title', 'Employees', 'Sector', 'Industry', 'Hqlocation',\n",
       "       'Revenues', 'Profits'],\n",
       "      dtype='object')"
      ]
     },
     "execution_count": 10,
     "metadata": {},
     "output_type": "execute_result"
    }
   ],
   "source": [
    "company.columns"
   ]
  },
  {
   "cell_type": "code",
   "execution_count": 11,
   "id": "0336c56b",
   "metadata": {},
   "outputs": [
    {
     "data": {
      "text/plain": [
       "Index(['Name', 'Gender', 'City', 'Frequency', 'Item', 'Spends'], dtype='object')"
      ]
     },
     "execution_count": 11,
     "metadata": {},
     "output_type": "execute_result"
    }
   ],
   "source": [
    "food.columns"
   ]
  },
  {
   "cell_type": "code",
   "execution_count": 12,
   "id": "0e2ba662",
   "metadata": {},
   "outputs": [
    {
     "data": {
      "text/plain": [
       "Index(['PassengerId', 'Survived', 'Pclass', 'Name', 'Sex', 'Age', 'SibSp',\n",
       "       'Parch', 'Ticket', 'Fare', 'Cabin', 'Embarked'],\n",
       "      dtype='object')"
      ]
     },
     "execution_count": 12,
     "metadata": {},
     "output_type": "execute_result"
    }
   ],
   "source": [
    "titanic.columns"
   ]
  },
  {
   "cell_type": "markdown",
   "id": "b16b1e0d",
   "metadata": {},
   "source": [
    "## 3. First and Last row of the Datasets  [ head() and tail() method ]"
   ]
  },
  {
   "cell_type": "code",
   "execution_count": 13,
   "id": "32836259",
   "metadata": {},
   "outputs": [
    {
     "data": {
      "text/html": [
       "<div>\n",
       "<style scoped>\n",
       "    .dataframe tbody tr th:only-of-type {\n",
       "        vertical-align: middle;\n",
       "    }\n",
       "\n",
       "    .dataframe tbody tr th {\n",
       "        vertical-align: top;\n",
       "    }\n",
       "\n",
       "    .dataframe thead th {\n",
       "        text-align: right;\n",
       "    }\n",
       "</style>\n",
       "<table border=\"1\" class=\"dataframe\">\n",
       "  <thead>\n",
       "    <tr style=\"text-align: right;\">\n",
       "      <th></th>\n",
       "      <th>Name</th>\n",
       "      <th>Gender</th>\n",
       "      <th>City</th>\n",
       "      <th>Frequency</th>\n",
       "      <th>Item</th>\n",
       "      <th>Spends</th>\n",
       "    </tr>\n",
       "  </thead>\n",
       "  <tbody>\n",
       "    <tr>\n",
       "      <th>0</th>\n",
       "      <td>Nitish</td>\n",
       "      <td>M</td>\n",
       "      <td>Kolkata</td>\n",
       "      <td>Weekly</td>\n",
       "      <td>Burger</td>\n",
       "      <td>11</td>\n",
       "    </tr>\n",
       "    <tr>\n",
       "      <th>1</th>\n",
       "      <td>Anu</td>\n",
       "      <td>F</td>\n",
       "      <td>Gurgaon</td>\n",
       "      <td>Daily</td>\n",
       "      <td>Sandwich</td>\n",
       "      <td>14</td>\n",
       "    </tr>\n",
       "    <tr>\n",
       "      <th>2</th>\n",
       "      <td>Mukku</td>\n",
       "      <td>M</td>\n",
       "      <td>Kolkata</td>\n",
       "      <td>Once</td>\n",
       "      <td>Vada</td>\n",
       "      <td>25</td>\n",
       "    </tr>\n",
       "    <tr>\n",
       "      <th>3</th>\n",
       "      <td>Suri</td>\n",
       "      <td>M</td>\n",
       "      <td>Kolkata</td>\n",
       "      <td>Monthly</td>\n",
       "      <td>Pizza</td>\n",
       "      <td>56</td>\n",
       "    </tr>\n",
       "    <tr>\n",
       "      <th>4</th>\n",
       "      <td>Rajiv</td>\n",
       "      <td>M</td>\n",
       "      <td>Patna</td>\n",
       "      <td>Never</td>\n",
       "      <td>Paneer</td>\n",
       "      <td>34</td>\n",
       "    </tr>\n",
       "  </tbody>\n",
       "</table>\n",
       "</div>"
      ],
      "text/plain": [
       "     Name Gender     City Frequency      Item  Spends\n",
       "0  Nitish      M  Kolkata    Weekly    Burger      11\n",
       "1     Anu      F  Gurgaon     Daily  Sandwich      14\n",
       "2   Mukku      M  Kolkata      Once      Vada      25\n",
       "3    Suri      M  Kolkata   Monthly     Pizza      56\n",
       "4   Rajiv      M    Patna     Never    Paneer      34"
      ]
     },
     "execution_count": 13,
     "metadata": {},
     "output_type": "execute_result"
    }
   ],
   "source": [
    "food.head(5)"
   ]
  },
  {
   "cell_type": "code",
   "execution_count": 14,
   "id": "f4e112e3",
   "metadata": {},
   "outputs": [
    {
     "data": {
      "text/html": [
       "<div>\n",
       "<style scoped>\n",
       "    .dataframe tbody tr th:only-of-type {\n",
       "        vertical-align: middle;\n",
       "    }\n",
       "\n",
       "    .dataframe tbody tr th {\n",
       "        vertical-align: top;\n",
       "    }\n",
       "\n",
       "    .dataframe thead th {\n",
       "        text-align: right;\n",
       "    }\n",
       "</style>\n",
       "<table border=\"1\" class=\"dataframe\">\n",
       "  <thead>\n",
       "    <tr style=\"text-align: right;\">\n",
       "      <th></th>\n",
       "      <th>Name</th>\n",
       "      <th>Gender</th>\n",
       "      <th>City</th>\n",
       "      <th>Frequency</th>\n",
       "      <th>Item</th>\n",
       "      <th>Spends</th>\n",
       "    </tr>\n",
       "  </thead>\n",
       "  <tbody>\n",
       "    <tr>\n",
       "      <th>45</th>\n",
       "      <td>Meenal</td>\n",
       "      <td>F</td>\n",
       "      <td>Pune</td>\n",
       "      <td>Monthly</td>\n",
       "      <td>Pizza</td>\n",
       "      <td>67</td>\n",
       "    </tr>\n",
       "    <tr>\n",
       "      <th>46</th>\n",
       "      <td>Akshay</td>\n",
       "      <td>M</td>\n",
       "      <td>Ranchi</td>\n",
       "      <td>Daily</td>\n",
       "      <td>Paneer</td>\n",
       "      <td>32</td>\n",
       "    </tr>\n",
       "    <tr>\n",
       "      <th>47</th>\n",
       "      <td>Gurpreet</td>\n",
       "      <td>M</td>\n",
       "      <td>Kolkata</td>\n",
       "      <td>Never</td>\n",
       "      <td>Pizza</td>\n",
       "      <td>56</td>\n",
       "    </tr>\n",
       "    <tr>\n",
       "      <th>48</th>\n",
       "      <td>Kishore</td>\n",
       "      <td>M</td>\n",
       "      <td>Gurgaon</td>\n",
       "      <td>Never</td>\n",
       "      <td>Vada</td>\n",
       "      <td>22</td>\n",
       "    </tr>\n",
       "    <tr>\n",
       "      <th>49</th>\n",
       "      <td>Jaideep</td>\n",
       "      <td>M</td>\n",
       "      <td>Chennai</td>\n",
       "      <td>Once</td>\n",
       "      <td>Burger</td>\n",
       "      <td>44</td>\n",
       "    </tr>\n",
       "  </tbody>\n",
       "</table>\n",
       "</div>"
      ],
      "text/plain": [
       "        Name Gender     City Frequency    Item  Spends\n",
       "45    Meenal      F     Pune   Monthly   Pizza      67\n",
       "46    Akshay      M   Ranchi     Daily  Paneer      32\n",
       "47  Gurpreet      M  Kolkata     Never   Pizza      56\n",
       "48   Kishore      M  Gurgaon     Never    Vada      22\n",
       "49   Jaideep      M  Chennai      Once  Burger      44"
      ]
     },
     "execution_count": 14,
     "metadata": {},
     "output_type": "execute_result"
    }
   ],
   "source": [
    "food.tail(5)"
   ]
  },
  {
   "cell_type": "markdown",
   "id": "030844c5",
   "metadata": {},
   "source": [
    "## 4. The info() method"
   ]
  },
  {
   "cell_type": "code",
   "execution_count": 15,
   "id": "e218d2bc",
   "metadata": {},
   "outputs": [
    {
     "name": "stdout",
     "output_type": "stream",
     "text": [
      "<class 'pandas.core.frame.DataFrame'>\n",
      "RangeIndex: 50 entries, 0 to 49\n",
      "Data columns (total 6 columns):\n",
      " #   Column     Non-Null Count  Dtype \n",
      "---  ------     --------------  ----- \n",
      " 0   Name       50 non-null     object\n",
      " 1   Gender     50 non-null     object\n",
      " 2   City       50 non-null     object\n",
      " 3   Frequency  50 non-null     object\n",
      " 4   Item       50 non-null     object\n",
      " 5   Spends     50 non-null     int64 \n",
      "dtypes: int64(1), object(5)\n",
      "memory usage: 2.5+ KB\n"
     ]
    }
   ],
   "source": [
    "food.info()"
   ]
  },
  {
   "cell_type": "code",
   "execution_count": 16,
   "id": "1bcaa185",
   "metadata": {},
   "outputs": [
    {
     "name": "stdout",
     "output_type": "stream",
     "text": [
      "<class 'pandas.core.frame.DataFrame'>\n",
      "RangeIndex: 891 entries, 0 to 890\n",
      "Data columns (total 12 columns):\n",
      " #   Column       Non-Null Count  Dtype  \n",
      "---  ------       --------------  -----  \n",
      " 0   PassengerId  891 non-null    int64  \n",
      " 1   Survived     891 non-null    int64  \n",
      " 2   Pclass       891 non-null    int64  \n",
      " 3   Name         891 non-null    object \n",
      " 4   Sex          891 non-null    object \n",
      " 5   Age          714 non-null    float64\n",
      " 6   SibSp        891 non-null    int64  \n",
      " 7   Parch        891 non-null    int64  \n",
      " 8   Ticket       891 non-null    object \n",
      " 9   Fare         891 non-null    float64\n",
      " 10  Cabin        204 non-null    object \n",
      " 11  Embarked     889 non-null    object \n",
      "dtypes: float64(2), int64(5), object(5)\n",
      "memory usage: 83.7+ KB\n"
     ]
    }
   ],
   "source": [
    "titanic.info()"
   ]
  },
  {
   "cell_type": "markdown",
   "id": "1caf7752",
   "metadata": {},
   "source": [
    "## 5. The describe() method"
   ]
  },
  {
   "cell_type": "code",
   "execution_count": 17,
   "id": "2c01a511",
   "metadata": {},
   "outputs": [
    {
     "data": {
      "text/html": [
       "<div>\n",
       "<style scoped>\n",
       "    .dataframe tbody tr th:only-of-type {\n",
       "        vertical-align: middle;\n",
       "    }\n",
       "\n",
       "    .dataframe tbody tr th {\n",
       "        vertical-align: top;\n",
       "    }\n",
       "\n",
       "    .dataframe thead th {\n",
       "        text-align: right;\n",
       "    }\n",
       "</style>\n",
       "<table border=\"1\" class=\"dataframe\">\n",
       "  <thead>\n",
       "    <tr style=\"text-align: right;\">\n",
       "      <th></th>\n",
       "      <th>Spends</th>\n",
       "    </tr>\n",
       "  </thead>\n",
       "  <tbody>\n",
       "    <tr>\n",
       "      <th>count</th>\n",
       "      <td>50.000000</td>\n",
       "    </tr>\n",
       "    <tr>\n",
       "      <th>mean</th>\n",
       "      <td>55.580000</td>\n",
       "    </tr>\n",
       "    <tr>\n",
       "      <th>std</th>\n",
       "      <td>24.326931</td>\n",
       "    </tr>\n",
       "    <tr>\n",
       "      <th>min</th>\n",
       "      <td>11.000000</td>\n",
       "    </tr>\n",
       "    <tr>\n",
       "      <th>25%</th>\n",
       "      <td>34.000000</td>\n",
       "    </tr>\n",
       "    <tr>\n",
       "      <th>50%</th>\n",
       "      <td>55.500000</td>\n",
       "    </tr>\n",
       "    <tr>\n",
       "      <th>75%</th>\n",
       "      <td>75.500000</td>\n",
       "    </tr>\n",
       "    <tr>\n",
       "      <th>max</th>\n",
       "      <td>99.000000</td>\n",
       "    </tr>\n",
       "  </tbody>\n",
       "</table>\n",
       "</div>"
      ],
      "text/plain": [
       "          Spends\n",
       "count  50.000000\n",
       "mean   55.580000\n",
       "std    24.326931\n",
       "min    11.000000\n",
       "25%    34.000000\n",
       "50%    55.500000\n",
       "75%    75.500000\n",
       "max    99.000000"
      ]
     },
     "execution_count": 17,
     "metadata": {},
     "output_type": "execute_result"
    }
   ],
   "source": [
    "food.describe()"
   ]
  },
  {
   "cell_type": "code",
   "execution_count": 18,
   "id": "c90b2c34",
   "metadata": {},
   "outputs": [
    {
     "data": {
      "text/html": [
       "<div>\n",
       "<style scoped>\n",
       "    .dataframe tbody tr th:only-of-type {\n",
       "        vertical-align: middle;\n",
       "    }\n",
       "\n",
       "    .dataframe tbody tr th {\n",
       "        vertical-align: top;\n",
       "    }\n",
       "\n",
       "    .dataframe thead th {\n",
       "        text-align: right;\n",
       "    }\n",
       "</style>\n",
       "<table border=\"1\" class=\"dataframe\">\n",
       "  <thead>\n",
       "    <tr style=\"text-align: right;\">\n",
       "      <th></th>\n",
       "      <th>PassengerId</th>\n",
       "      <th>Survived</th>\n",
       "      <th>Pclass</th>\n",
       "      <th>Age</th>\n",
       "      <th>SibSp</th>\n",
       "      <th>Parch</th>\n",
       "      <th>Fare</th>\n",
       "    </tr>\n",
       "  </thead>\n",
       "  <tbody>\n",
       "    <tr>\n",
       "      <th>count</th>\n",
       "      <td>891.000000</td>\n",
       "      <td>891.000000</td>\n",
       "      <td>891.000000</td>\n",
       "      <td>714.000000</td>\n",
       "      <td>891.000000</td>\n",
       "      <td>891.000000</td>\n",
       "      <td>891.000000</td>\n",
       "    </tr>\n",
       "    <tr>\n",
       "      <th>mean</th>\n",
       "      <td>446.000000</td>\n",
       "      <td>0.383838</td>\n",
       "      <td>2.308642</td>\n",
       "      <td>29.699118</td>\n",
       "      <td>0.523008</td>\n",
       "      <td>0.381594</td>\n",
       "      <td>32.204208</td>\n",
       "    </tr>\n",
       "    <tr>\n",
       "      <th>std</th>\n",
       "      <td>257.353842</td>\n",
       "      <td>0.486592</td>\n",
       "      <td>0.836071</td>\n",
       "      <td>14.526497</td>\n",
       "      <td>1.102743</td>\n",
       "      <td>0.806057</td>\n",
       "      <td>49.693429</td>\n",
       "    </tr>\n",
       "    <tr>\n",
       "      <th>min</th>\n",
       "      <td>1.000000</td>\n",
       "      <td>0.000000</td>\n",
       "      <td>1.000000</td>\n",
       "      <td>0.420000</td>\n",
       "      <td>0.000000</td>\n",
       "      <td>0.000000</td>\n",
       "      <td>0.000000</td>\n",
       "    </tr>\n",
       "    <tr>\n",
       "      <th>25%</th>\n",
       "      <td>223.500000</td>\n",
       "      <td>0.000000</td>\n",
       "      <td>2.000000</td>\n",
       "      <td>20.125000</td>\n",
       "      <td>0.000000</td>\n",
       "      <td>0.000000</td>\n",
       "      <td>7.910400</td>\n",
       "    </tr>\n",
       "    <tr>\n",
       "      <th>50%</th>\n",
       "      <td>446.000000</td>\n",
       "      <td>0.000000</td>\n",
       "      <td>3.000000</td>\n",
       "      <td>28.000000</td>\n",
       "      <td>0.000000</td>\n",
       "      <td>0.000000</td>\n",
       "      <td>14.454200</td>\n",
       "    </tr>\n",
       "    <tr>\n",
       "      <th>75%</th>\n",
       "      <td>668.500000</td>\n",
       "      <td>1.000000</td>\n",
       "      <td>3.000000</td>\n",
       "      <td>38.000000</td>\n",
       "      <td>1.000000</td>\n",
       "      <td>0.000000</td>\n",
       "      <td>31.000000</td>\n",
       "    </tr>\n",
       "    <tr>\n",
       "      <th>max</th>\n",
       "      <td>891.000000</td>\n",
       "      <td>1.000000</td>\n",
       "      <td>3.000000</td>\n",
       "      <td>80.000000</td>\n",
       "      <td>8.000000</td>\n",
       "      <td>6.000000</td>\n",
       "      <td>512.329200</td>\n",
       "    </tr>\n",
       "  </tbody>\n",
       "</table>\n",
       "</div>"
      ],
      "text/plain": [
       "       PassengerId    Survived      Pclass         Age       SibSp  \\\n",
       "count   891.000000  891.000000  891.000000  714.000000  891.000000   \n",
       "mean    446.000000    0.383838    2.308642   29.699118    0.523008   \n",
       "std     257.353842    0.486592    0.836071   14.526497    1.102743   \n",
       "min       1.000000    0.000000    1.000000    0.420000    0.000000   \n",
       "25%     223.500000    0.000000    2.000000   20.125000    0.000000   \n",
       "50%     446.000000    0.000000    3.000000   28.000000    0.000000   \n",
       "75%     668.500000    1.000000    3.000000   38.000000    1.000000   \n",
       "max     891.000000    1.000000    3.000000   80.000000    8.000000   \n",
       "\n",
       "            Parch        Fare  \n",
       "count  891.000000  891.000000  \n",
       "mean     0.381594   32.204208  \n",
       "std      0.806057   49.693429  \n",
       "min      0.000000    0.000000  \n",
       "25%      0.000000    7.910400  \n",
       "50%      0.000000   14.454200  \n",
       "75%      0.000000   31.000000  \n",
       "max      6.000000  512.329200  "
      ]
     },
     "execution_count": 18,
     "metadata": {},
     "output_type": "execute_result"
    }
   ],
   "source": [
    "titanic.describe()"
   ]
  },
  {
   "cell_type": "markdown",
   "id": "2fc62910",
   "metadata": {},
   "source": [
    "## 6. The nunique() method\n",
    "<p style = \"font-size:20px\" >no of unique values in each column</p>"
   ]
  },
  {
   "cell_type": "code",
   "execution_count": 19,
   "id": "d62bdf7c",
   "metadata": {},
   "outputs": [
    {
     "data": {
      "text/plain": [
       "PassengerId    891\n",
       "Survived         2\n",
       "Pclass           3\n",
       "Name           891\n",
       "Sex              2\n",
       "Age             88\n",
       "SibSp            7\n",
       "Parch            7\n",
       "Ticket         681\n",
       "Fare           248\n",
       "Cabin          147\n",
       "Embarked         3\n",
       "dtype: int64"
      ]
     },
     "execution_count": 19,
     "metadata": {},
     "output_type": "execute_result"
    }
   ],
   "source": [
    "titanic.nunique()"
   ]
  },
  {
   "cell_type": "code",
   "execution_count": 20,
   "id": "ad297404",
   "metadata": {},
   "outputs": [
    {
     "data": {
      "text/plain": [
       "Name         50\n",
       "Gender        2\n",
       "City          7\n",
       "Frequency     5\n",
       "Item          6\n",
       "Spends       34\n",
       "dtype: int64"
      ]
     },
     "execution_count": 20,
     "metadata": {},
     "output_type": "execute_result"
    }
   ],
   "source": [
    "food.nunique()"
   ]
  },
  {
   "cell_type": "markdown",
   "id": "9140d586",
   "metadata": {},
   "source": [
    "## 7. Extract one column"
   ]
  },
  {
   "cell_type": "code",
   "execution_count": 21,
   "id": "7c800a13",
   "metadata": {},
   "outputs": [
    {
     "data": {
      "text/plain": [
       "Index(['Name', 'Gender', 'City', 'Frequency', 'Item', 'Spends'], dtype='object')"
      ]
     },
     "execution_count": 21,
     "metadata": {},
     "output_type": "execute_result"
    }
   ],
   "source": [
    "food.columns"
   ]
  },
  {
   "cell_type": "code",
   "execution_count": 22,
   "id": "4c64bf46",
   "metadata": {},
   "outputs": [
    {
     "data": {
      "text/plain": [
       "0       Burger\n",
       "1     Sandwich\n",
       "2         Vada\n",
       "3        Pizza\n",
       "4       Paneer\n",
       "5      Chicken\n",
       "6      Chicken\n",
       "7        Pizza\n",
       "8         Vada\n",
       "9       Paneer\n",
       "10       Pizza\n",
       "11      Burger\n",
       "12    Sandwich\n",
       "13    Sandwich\n",
       "14        Vada\n",
       "15      Paneer\n",
       "16       Pizza\n",
       "17       Pizza\n",
       "18    Sandwich\n",
       "19        Vada\n",
       "20      Burger\n",
       "21      Burger\n",
       "22      Burger\n",
       "23      Paneer\n",
       "24       Pizza\n",
       "25        Vada\n",
       "26        Vada\n",
       "27    Sandwich\n",
       "28      Burger\n",
       "29    Sandwich\n",
       "30       Pizza\n",
       "31      Paneer\n",
       "32    Sandwich\n",
       "33        Vada\n",
       "34        Vada\n",
       "35    Sandwich\n",
       "36      Paneer\n",
       "37       Pizza\n",
       "38      Burger\n",
       "39    Sandwich\n",
       "40       Pizza\n",
       "41      Paneer\n",
       "42        Vada\n",
       "43        Vada\n",
       "44    Sandwich\n",
       "45       Pizza\n",
       "46      Paneer\n",
       "47       Pizza\n",
       "48        Vada\n",
       "49      Burger\n",
       "Name: Item, dtype: object"
      ]
     },
     "execution_count": 22,
     "metadata": {},
     "output_type": "execute_result"
    }
   ],
   "source": [
    "food['Item']"
   ]
  },
  {
   "cell_type": "markdown",
   "id": "0cf655a0",
   "metadata": {},
   "source": [
    "## 8. Find the unique values in a column"
   ]
  },
  {
   "cell_type": "code",
   "execution_count": 23,
   "id": "92e6485f",
   "metadata": {},
   "outputs": [
    {
     "data": {
      "text/plain": [
       "array(['Burger', 'Sandwich', 'Vada', 'Pizza', 'Paneer', 'Chicken'],\n",
       "      dtype=object)"
      ]
     },
     "execution_count": 23,
     "metadata": {},
     "output_type": "execute_result"
    }
   ],
   "source": [
    "food['Item'].unique()"
   ]
  },
  {
   "cell_type": "markdown",
   "id": "542419ff",
   "metadata": {},
   "source": [
    "## 9. Extracting multiple column"
   ]
  },
  {
   "cell_type": "code",
   "execution_count": 24,
   "id": "3207c644",
   "metadata": {},
   "outputs": [
    {
     "data": {
      "text/plain": [
       "Index(['Name', 'Gender', 'City', 'Frequency', 'Item', 'Spends'], dtype='object')"
      ]
     },
     "execution_count": 24,
     "metadata": {},
     "output_type": "execute_result"
    }
   ],
   "source": [
    "food.columns"
   ]
  },
  {
   "cell_type": "code",
   "execution_count": 25,
   "id": "b462f135",
   "metadata": {},
   "outputs": [
    {
     "data": {
      "text/html": [
       "<div>\n",
       "<style scoped>\n",
       "    .dataframe tbody tr th:only-of-type {\n",
       "        vertical-align: middle;\n",
       "    }\n",
       "\n",
       "    .dataframe tbody tr th {\n",
       "        vertical-align: top;\n",
       "    }\n",
       "\n",
       "    .dataframe thead th {\n",
       "        text-align: right;\n",
       "    }\n",
       "</style>\n",
       "<table border=\"1\" class=\"dataframe\">\n",
       "  <thead>\n",
       "    <tr style=\"text-align: right;\">\n",
       "      <th></th>\n",
       "      <th>Name</th>\n",
       "      <th>City</th>\n",
       "      <th>Item</th>\n",
       "    </tr>\n",
       "  </thead>\n",
       "  <tbody>\n",
       "    <tr>\n",
       "      <th>0</th>\n",
       "      <td>Nitish</td>\n",
       "      <td>Kolkata</td>\n",
       "      <td>Burger</td>\n",
       "    </tr>\n",
       "    <tr>\n",
       "      <th>1</th>\n",
       "      <td>Anu</td>\n",
       "      <td>Gurgaon</td>\n",
       "      <td>Sandwich</td>\n",
       "    </tr>\n",
       "    <tr>\n",
       "      <th>2</th>\n",
       "      <td>Mukku</td>\n",
       "      <td>Kolkata</td>\n",
       "      <td>Vada</td>\n",
       "    </tr>\n",
       "    <tr>\n",
       "      <th>3</th>\n",
       "      <td>Suri</td>\n",
       "      <td>Kolkata</td>\n",
       "      <td>Pizza</td>\n",
       "    </tr>\n",
       "    <tr>\n",
       "      <th>4</th>\n",
       "      <td>Rajiv</td>\n",
       "      <td>Patna</td>\n",
       "      <td>Paneer</td>\n",
       "    </tr>\n",
       "  </tbody>\n",
       "</table>\n",
       "</div>"
      ],
      "text/plain": [
       "     Name     City      Item\n",
       "0  Nitish  Kolkata    Burger\n",
       "1     Anu  Gurgaon  Sandwich\n",
       "2   Mukku  Kolkata      Vada\n",
       "3    Suri  Kolkata     Pizza\n",
       "4   Rajiv    Patna    Paneer"
      ]
     },
     "execution_count": 25,
     "metadata": {},
     "output_type": "execute_result"
    }
   ],
   "source": [
    "food[['Name','City','Item']].head(5)"
   ]
  },
  {
   "cell_type": "markdown",
   "id": "d9d0f8c4",
   "metadata": {},
   "source": [
    "## 10. Add new Column"
   ]
  },
  {
   "cell_type": "code",
   "execution_count": 26,
   "id": "bcefdda4",
   "metadata": {},
   "outputs": [
    {
     "data": {
      "text/html": [
       "<div>\n",
       "<style scoped>\n",
       "    .dataframe tbody tr th:only-of-type {\n",
       "        vertical-align: middle;\n",
       "    }\n",
       "\n",
       "    .dataframe tbody tr th {\n",
       "        vertical-align: top;\n",
       "    }\n",
       "\n",
       "    .dataframe thead th {\n",
       "        text-align: right;\n",
       "    }\n",
       "</style>\n",
       "<table border=\"1\" class=\"dataframe\">\n",
       "  <thead>\n",
       "    <tr style=\"text-align: right;\">\n",
       "      <th></th>\n",
       "      <th>Name</th>\n",
       "      <th>Gender</th>\n",
       "      <th>City</th>\n",
       "      <th>Frequency</th>\n",
       "      <th>Item</th>\n",
       "      <th>Spends</th>\n",
       "      <th>New Column</th>\n",
       "    </tr>\n",
       "  </thead>\n",
       "  <tbody>\n",
       "    <tr>\n",
       "      <th>0</th>\n",
       "      <td>Nitish</td>\n",
       "      <td>M</td>\n",
       "      <td>Kolkata</td>\n",
       "      <td>Weekly</td>\n",
       "      <td>Burger</td>\n",
       "      <td>11</td>\n",
       "      <td>NULL</td>\n",
       "    </tr>\n",
       "    <tr>\n",
       "      <th>1</th>\n",
       "      <td>Anu</td>\n",
       "      <td>F</td>\n",
       "      <td>Gurgaon</td>\n",
       "      <td>Daily</td>\n",
       "      <td>Sandwich</td>\n",
       "      <td>14</td>\n",
       "      <td>NULL</td>\n",
       "    </tr>\n",
       "    <tr>\n",
       "      <th>2</th>\n",
       "      <td>Mukku</td>\n",
       "      <td>M</td>\n",
       "      <td>Kolkata</td>\n",
       "      <td>Once</td>\n",
       "      <td>Vada</td>\n",
       "      <td>25</td>\n",
       "      <td>NULL</td>\n",
       "    </tr>\n",
       "    <tr>\n",
       "      <th>3</th>\n",
       "      <td>Suri</td>\n",
       "      <td>M</td>\n",
       "      <td>Kolkata</td>\n",
       "      <td>Monthly</td>\n",
       "      <td>Pizza</td>\n",
       "      <td>56</td>\n",
       "      <td>NULL</td>\n",
       "    </tr>\n",
       "    <tr>\n",
       "      <th>4</th>\n",
       "      <td>Rajiv</td>\n",
       "      <td>M</td>\n",
       "      <td>Patna</td>\n",
       "      <td>Never</td>\n",
       "      <td>Paneer</td>\n",
       "      <td>34</td>\n",
       "      <td>NULL</td>\n",
       "    </tr>\n",
       "  </tbody>\n",
       "</table>\n",
       "</div>"
      ],
      "text/plain": [
       "     Name Gender     City Frequency      Item  Spends New Column\n",
       "0  Nitish      M  Kolkata    Weekly    Burger      11       NULL\n",
       "1     Anu      F  Gurgaon     Daily  Sandwich      14       NULL\n",
       "2   Mukku      M  Kolkata      Once      Vada      25       NULL\n",
       "3    Suri      M  Kolkata   Monthly     Pizza      56       NULL\n",
       "4   Rajiv      M    Patna     Never    Paneer      34       NULL"
      ]
     },
     "execution_count": 26,
     "metadata": {},
     "output_type": "execute_result"
    }
   ],
   "source": [
    "food['New Column'] = \"NULL\"\n",
    "food.head(5)"
   ]
  },
  {
   "cell_type": "code",
   "execution_count": 27,
   "id": "ccc49a1f",
   "metadata": {},
   "outputs": [
    {
     "data": {
      "text/html": [
       "<div>\n",
       "<style scoped>\n",
       "    .dataframe tbody tr th:only-of-type {\n",
       "        vertical-align: middle;\n",
       "    }\n",
       "\n",
       "    .dataframe tbody tr th {\n",
       "        vertical-align: top;\n",
       "    }\n",
       "\n",
       "    .dataframe thead th {\n",
       "        text-align: right;\n",
       "    }\n",
       "</style>\n",
       "<table border=\"1\" class=\"dataframe\">\n",
       "  <thead>\n",
       "    <tr style=\"text-align: right;\">\n",
       "      <th></th>\n",
       "      <th>Name</th>\n",
       "      <th>Gender</th>\n",
       "      <th>City</th>\n",
       "      <th>Frequency</th>\n",
       "      <th>Item</th>\n",
       "      <th>Spends</th>\n",
       "    </tr>\n",
       "  </thead>\n",
       "  <tbody>\n",
       "    <tr>\n",
       "      <th>0</th>\n",
       "      <td>Nitish</td>\n",
       "      <td>M</td>\n",
       "      <td>Kolkata</td>\n",
       "      <td>Weekly</td>\n",
       "      <td>Burger</td>\n",
       "      <td>11</td>\n",
       "    </tr>\n",
       "    <tr>\n",
       "      <th>1</th>\n",
       "      <td>Anu</td>\n",
       "      <td>F</td>\n",
       "      <td>Gurgaon</td>\n",
       "      <td>Daily</td>\n",
       "      <td>Sandwich</td>\n",
       "      <td>14</td>\n",
       "    </tr>\n",
       "    <tr>\n",
       "      <th>2</th>\n",
       "      <td>Mukku</td>\n",
       "      <td>M</td>\n",
       "      <td>Kolkata</td>\n",
       "      <td>Once</td>\n",
       "      <td>Vada</td>\n",
       "      <td>25</td>\n",
       "    </tr>\n",
       "    <tr>\n",
       "      <th>3</th>\n",
       "      <td>Suri</td>\n",
       "      <td>M</td>\n",
       "      <td>Kolkata</td>\n",
       "      <td>Monthly</td>\n",
       "      <td>Pizza</td>\n",
       "      <td>56</td>\n",
       "    </tr>\n",
       "    <tr>\n",
       "      <th>4</th>\n",
       "      <td>Rajiv</td>\n",
       "      <td>M</td>\n",
       "      <td>Patna</td>\n",
       "      <td>Never</td>\n",
       "      <td>Paneer</td>\n",
       "      <td>34</td>\n",
       "    </tr>\n",
       "  </tbody>\n",
       "</table>\n",
       "</div>"
      ],
      "text/plain": [
       "     Name Gender     City Frequency      Item  Spends\n",
       "0  Nitish      M  Kolkata    Weekly    Burger      11\n",
       "1     Anu      F  Gurgaon     Daily  Sandwich      14\n",
       "2   Mukku      M  Kolkata      Once      Vada      25\n",
       "3    Suri      M  Kolkata   Monthly     Pizza      56\n",
       "4   Rajiv      M    Patna     Never    Paneer      34"
      ]
     },
     "execution_count": 27,
     "metadata": {},
     "output_type": "execute_result"
    }
   ],
   "source": [
    "food=pd.read_csv('food.csv')\n",
    "food.head(5)"
   ]
  },
  {
   "cell_type": "markdown",
   "id": "cd21bd31",
   "metadata": {},
   "source": [
    "## 11. Extracting one row  ( .iloc[ ] )"
   ]
  },
  {
   "cell_type": "code",
   "execution_count": 28,
   "id": "4fe3528e",
   "metadata": {},
   "outputs": [
    {
     "data": {
      "text/plain": [
       "Name            Suri\n",
       "Gender             M\n",
       "City         Kolkata\n",
       "Frequency    Monthly\n",
       "Item           Pizza\n",
       "Spends            56\n",
       "Name: 3, dtype: object"
      ]
     },
     "execution_count": 28,
     "metadata": {},
     "output_type": "execute_result"
    }
   ],
   "source": [
    "food.iloc[3]"
   ]
  },
  {
   "cell_type": "code",
   "execution_count": 29,
   "id": "588fbf06",
   "metadata": {},
   "outputs": [
    {
     "data": {
      "text/html": [
       "<div>\n",
       "<style scoped>\n",
       "    .dataframe tbody tr th:only-of-type {\n",
       "        vertical-align: middle;\n",
       "    }\n",
       "\n",
       "    .dataframe tbody tr th {\n",
       "        vertical-align: top;\n",
       "    }\n",
       "\n",
       "    .dataframe thead th {\n",
       "        text-align: right;\n",
       "    }\n",
       "</style>\n",
       "<table border=\"1\" class=\"dataframe\">\n",
       "  <thead>\n",
       "    <tr style=\"text-align: right;\">\n",
       "      <th></th>\n",
       "      <th>Name</th>\n",
       "      <th>Gender</th>\n",
       "      <th>City</th>\n",
       "      <th>Frequency</th>\n",
       "      <th>Item</th>\n",
       "      <th>Spends</th>\n",
       "    </tr>\n",
       "  </thead>\n",
       "  <tbody>\n",
       "    <tr>\n",
       "      <th>3</th>\n",
       "      <td>Suri</td>\n",
       "      <td>M</td>\n",
       "      <td>Kolkata</td>\n",
       "      <td>Monthly</td>\n",
       "      <td>Pizza</td>\n",
       "      <td>56</td>\n",
       "    </tr>\n",
       "  </tbody>\n",
       "</table>\n",
       "</div>"
      ],
      "text/plain": [
       "   Name Gender     City Frequency   Item  Spends\n",
       "3  Suri      M  Kolkata   Monthly  Pizza      56"
      ]
     },
     "execution_count": 29,
     "metadata": {},
     "output_type": "execute_result"
    }
   ],
   "source": [
    "food.iloc[[3]]"
   ]
  },
  {
   "cell_type": "markdown",
   "id": "e081a5e2",
   "metadata": {},
   "source": [
    "## 12. Extracting multiple rows"
   ]
  },
  {
   "cell_type": "code",
   "execution_count": 30,
   "id": "b00196ae",
   "metadata": {},
   "outputs": [
    {
     "data": {
      "text/html": [
       "<div>\n",
       "<style scoped>\n",
       "    .dataframe tbody tr th:only-of-type {\n",
       "        vertical-align: middle;\n",
       "    }\n",
       "\n",
       "    .dataframe tbody tr th {\n",
       "        vertical-align: top;\n",
       "    }\n",
       "\n",
       "    .dataframe thead th {\n",
       "        text-align: right;\n",
       "    }\n",
       "</style>\n",
       "<table border=\"1\" class=\"dataframe\">\n",
       "  <thead>\n",
       "    <tr style=\"text-align: right;\">\n",
       "      <th></th>\n",
       "      <th>Name</th>\n",
       "      <th>Gender</th>\n",
       "      <th>City</th>\n",
       "      <th>Frequency</th>\n",
       "      <th>Item</th>\n",
       "      <th>Spends</th>\n",
       "    </tr>\n",
       "  </thead>\n",
       "  <tbody>\n",
       "    <tr>\n",
       "      <th>4</th>\n",
       "      <td>Rajiv</td>\n",
       "      <td>M</td>\n",
       "      <td>Patna</td>\n",
       "      <td>Never</td>\n",
       "      <td>Paneer</td>\n",
       "      <td>34</td>\n",
       "    </tr>\n",
       "    <tr>\n",
       "      <th>5</th>\n",
       "      <td>Vandanda</td>\n",
       "      <td>F</td>\n",
       "      <td>Patna</td>\n",
       "      <td>Once</td>\n",
       "      <td>Chicken</td>\n",
       "      <td>23</td>\n",
       "    </tr>\n",
       "  </tbody>\n",
       "</table>\n",
       "</div>"
      ],
      "text/plain": [
       "       Name Gender   City Frequency     Item  Spends\n",
       "4     Rajiv      M  Patna     Never   Paneer      34\n",
       "5  Vandanda      F  Patna      Once  Chicken      23"
      ]
     },
     "execution_count": 30,
     "metadata": {},
     "output_type": "execute_result"
    }
   ],
   "source": [
    "food.iloc[[4,5]]"
   ]
  },
  {
   "cell_type": "markdown",
   "id": "6efffc68",
   "metadata": {},
   "source": [
    "## 13. Extracting both rows and columns"
   ]
  },
  {
   "cell_type": "code",
   "execution_count": 31,
   "id": "1edc9f75",
   "metadata": {},
   "outputs": [
    {
     "data": {
      "text/html": [
       "<div>\n",
       "<style scoped>\n",
       "    .dataframe tbody tr th:only-of-type {\n",
       "        vertical-align: middle;\n",
       "    }\n",
       "\n",
       "    .dataframe tbody tr th {\n",
       "        vertical-align: top;\n",
       "    }\n",
       "\n",
       "    .dataframe thead th {\n",
       "        text-align: right;\n",
       "    }\n",
       "</style>\n",
       "<table border=\"1\" class=\"dataframe\">\n",
       "  <thead>\n",
       "    <tr style=\"text-align: right;\">\n",
       "      <th></th>\n",
       "      <th>Name</th>\n",
       "      <th>Gender</th>\n",
       "      <th>Frequency</th>\n",
       "    </tr>\n",
       "  </thead>\n",
       "  <tbody>\n",
       "    <tr>\n",
       "      <th>1</th>\n",
       "      <td>Anu</td>\n",
       "      <td>F</td>\n",
       "      <td>Daily</td>\n",
       "    </tr>\n",
       "    <tr>\n",
       "      <th>2</th>\n",
       "      <td>Mukku</td>\n",
       "      <td>M</td>\n",
       "      <td>Once</td>\n",
       "    </tr>\n",
       "    <tr>\n",
       "      <th>3</th>\n",
       "      <td>Suri</td>\n",
       "      <td>M</td>\n",
       "      <td>Monthly</td>\n",
       "    </tr>\n",
       "  </tbody>\n",
       "</table>\n",
       "</div>"
      ],
      "text/plain": [
       "    Name Gender Frequency\n",
       "1    Anu      F     Daily\n",
       "2  Mukku      M      Once\n",
       "3   Suri      M   Monthly"
      ]
     },
     "execution_count": 31,
     "metadata": {},
     "output_type": "execute_result"
    }
   ],
   "source": [
    "food.iloc[[1,2,3],[0,1,3]]"
   ]
  },
  {
   "cell_type": "code",
   "execution_count": 32,
   "id": "7e7027c9",
   "metadata": {},
   "outputs": [
    {
     "data": {
      "text/html": [
       "<div>\n",
       "<style scoped>\n",
       "    .dataframe tbody tr th:only-of-type {\n",
       "        vertical-align: middle;\n",
       "    }\n",
       "\n",
       "    .dataframe tbody tr th {\n",
       "        vertical-align: top;\n",
       "    }\n",
       "\n",
       "    .dataframe thead th {\n",
       "        text-align: right;\n",
       "    }\n",
       "</style>\n",
       "<table border=\"1\" class=\"dataframe\">\n",
       "  <thead>\n",
       "    <tr style=\"text-align: right;\">\n",
       "      <th></th>\n",
       "      <th>Name</th>\n",
       "      <th>Gender</th>\n",
       "      <th>Spends</th>\n",
       "    </tr>\n",
       "  </thead>\n",
       "  <tbody>\n",
       "    <tr>\n",
       "      <th>0</th>\n",
       "      <td>Nitish</td>\n",
       "      <td>M</td>\n",
       "      <td>11</td>\n",
       "    </tr>\n",
       "    <tr>\n",
       "      <th>2</th>\n",
       "      <td>Mukku</td>\n",
       "      <td>M</td>\n",
       "      <td>25</td>\n",
       "    </tr>\n",
       "    <tr>\n",
       "      <th>4</th>\n",
       "      <td>Rajiv</td>\n",
       "      <td>M</td>\n",
       "      <td>34</td>\n",
       "    </tr>\n",
       "    <tr>\n",
       "      <th>6</th>\n",
       "      <td>Piyush</td>\n",
       "      <td>M</td>\n",
       "      <td>67</td>\n",
       "    </tr>\n",
       "    <tr>\n",
       "      <th>8</th>\n",
       "      <td>Sunil</td>\n",
       "      <td>M</td>\n",
       "      <td>34</td>\n",
       "    </tr>\n",
       "    <tr>\n",
       "      <th>10</th>\n",
       "      <td>Sonal</td>\n",
       "      <td>F</td>\n",
       "      <td>89</td>\n",
       "    </tr>\n",
       "    <tr>\n",
       "      <th>12</th>\n",
       "      <td>Vineet</td>\n",
       "      <td>M</td>\n",
       "      <td>34</td>\n",
       "    </tr>\n",
       "    <tr>\n",
       "      <th>14</th>\n",
       "      <td>Ranbir</td>\n",
       "      <td>M</td>\n",
       "      <td>55</td>\n",
       "    </tr>\n",
       "    <tr>\n",
       "      <th>16</th>\n",
       "      <td>Pooja</td>\n",
       "      <td>F</td>\n",
       "      <td>34</td>\n",
       "    </tr>\n",
       "    <tr>\n",
       "      <th>18</th>\n",
       "      <td>Aditya</td>\n",
       "      <td>M</td>\n",
       "      <td>99</td>\n",
       "    </tr>\n",
       "  </tbody>\n",
       "</table>\n",
       "</div>"
      ],
      "text/plain": [
       "      Name Gender  Spends\n",
       "0   Nitish      M      11\n",
       "2    Mukku      M      25\n",
       "4    Rajiv      M      34\n",
       "6   Piyush      M      67\n",
       "8    Sunil      M      34\n",
       "10   Sonal      F      89\n",
       "12  Vineet      M      34\n",
       "14  Ranbir      M      55\n",
       "16   Pooja      F      34\n",
       "18  Aditya      M      99"
      ]
     },
     "execution_count": 32,
     "metadata": {},
     "output_type": "execute_result"
    }
   ],
   "source": [
    "food.iloc[::2,[0,1,5]].head(10)"
   ]
  },
  {
   "cell_type": "markdown",
   "id": "1415b561",
   "metadata": {},
   "source": [
    "## 14. The value_counts() method\n",
    "<p style = \"font-size:20px\" >How many time a unique value appears in a column</p>"
   ]
  },
  {
   "cell_type": "code",
   "execution_count": 33,
   "id": "8726bb0b",
   "metadata": {},
   "outputs": [
    {
     "data": {
      "text/plain": [
       "Pizza       11\n",
       "Vada        11\n",
       "Sandwich    10\n",
       "Burger       8\n",
       "Paneer       8\n",
       "Chicken      2\n",
       "Name: Item, dtype: int64"
      ]
     },
     "execution_count": 33,
     "metadata": {},
     "output_type": "execute_result"
    }
   ],
   "source": [
    "food['Item'].value_counts()"
   ]
  },
  {
   "cell_type": "markdown",
   "id": "f66dcc00",
   "metadata": {},
   "source": [
    "## 15. Filtering data based on a condition"
   ]
  },
  {
   "cell_type": "code",
   "execution_count": 34,
   "id": "adf1b6d4",
   "metadata": {},
   "outputs": [
    {
     "data": {
      "text/plain": [
       "0    False\n",
       "1    False\n",
       "2    False\n",
       "3     True\n",
       "4    False\n",
       "Name: Item, dtype: bool"
      ]
     },
     "execution_count": 34,
     "metadata": {},
     "output_type": "execute_result"
    }
   ],
   "source": [
    "pizza_filter = food['Item'] == \"Pizza\"\n",
    "pizza_filter.head(5)"
   ]
  },
  {
   "cell_type": "code",
   "execution_count": 35,
   "id": "4c8ecd10",
   "metadata": {},
   "outputs": [
    {
     "data": {
      "text/html": [
       "<div>\n",
       "<style scoped>\n",
       "    .dataframe tbody tr th:only-of-type {\n",
       "        vertical-align: middle;\n",
       "    }\n",
       "\n",
       "    .dataframe tbody tr th {\n",
       "        vertical-align: top;\n",
       "    }\n",
       "\n",
       "    .dataframe thead th {\n",
       "        text-align: right;\n",
       "    }\n",
       "</style>\n",
       "<table border=\"1\" class=\"dataframe\">\n",
       "  <thead>\n",
       "    <tr style=\"text-align: right;\">\n",
       "      <th></th>\n",
       "      <th>Name</th>\n",
       "      <th>Gender</th>\n",
       "      <th>City</th>\n",
       "      <th>Frequency</th>\n",
       "      <th>Item</th>\n",
       "      <th>Spends</th>\n",
       "    </tr>\n",
       "  </thead>\n",
       "  <tbody>\n",
       "    <tr>\n",
       "      <th>3</th>\n",
       "      <td>Suri</td>\n",
       "      <td>M</td>\n",
       "      <td>Kolkata</td>\n",
       "      <td>Monthly</td>\n",
       "      <td>Pizza</td>\n",
       "      <td>56</td>\n",
       "    </tr>\n",
       "    <tr>\n",
       "      <th>7</th>\n",
       "      <td>Radhika</td>\n",
       "      <td>F</td>\n",
       "      <td>Mumbai</td>\n",
       "      <td>Monthly</td>\n",
       "      <td>Pizza</td>\n",
       "      <td>43</td>\n",
       "    </tr>\n",
       "    <tr>\n",
       "      <th>10</th>\n",
       "      <td>Sonal</td>\n",
       "      <td>F</td>\n",
       "      <td>Pune</td>\n",
       "      <td>Monthly</td>\n",
       "      <td>Pizza</td>\n",
       "      <td>89</td>\n",
       "    </tr>\n",
       "    <tr>\n",
       "      <th>16</th>\n",
       "      <td>Pooja</td>\n",
       "      <td>F</td>\n",
       "      <td>Chennai</td>\n",
       "      <td>Daily</td>\n",
       "      <td>Pizza</td>\n",
       "      <td>34</td>\n",
       "    </tr>\n",
       "    <tr>\n",
       "      <th>17</th>\n",
       "      <td>Neha</td>\n",
       "      <td>F</td>\n",
       "      <td>Pune</td>\n",
       "      <td>Never</td>\n",
       "      <td>Pizza</td>\n",
       "      <td>88</td>\n",
       "    </tr>\n",
       "    <tr>\n",
       "      <th>24</th>\n",
       "      <td>Anjani</td>\n",
       "      <td>F</td>\n",
       "      <td>Pune</td>\n",
       "      <td>Never</td>\n",
       "      <td>Pizza</td>\n",
       "      <td>27</td>\n",
       "    </tr>\n",
       "    <tr>\n",
       "      <th>30</th>\n",
       "      <td>Bijurika</td>\n",
       "      <td>F</td>\n",
       "      <td>Ranchi</td>\n",
       "      <td>Weekly</td>\n",
       "      <td>Pizza</td>\n",
       "      <td>90</td>\n",
       "    </tr>\n",
       "    <tr>\n",
       "      <th>37</th>\n",
       "      <td>Sachin</td>\n",
       "      <td>M</td>\n",
       "      <td>Mumbai</td>\n",
       "      <td>Daily</td>\n",
       "      <td>Pizza</td>\n",
       "      <td>99</td>\n",
       "    </tr>\n",
       "    <tr>\n",
       "      <th>40</th>\n",
       "      <td>Rohit</td>\n",
       "      <td>M</td>\n",
       "      <td>Chennai</td>\n",
       "      <td>Once</td>\n",
       "      <td>Pizza</td>\n",
       "      <td>54</td>\n",
       "    </tr>\n",
       "    <tr>\n",
       "      <th>45</th>\n",
       "      <td>Meenal</td>\n",
       "      <td>F</td>\n",
       "      <td>Pune</td>\n",
       "      <td>Monthly</td>\n",
       "      <td>Pizza</td>\n",
       "      <td>67</td>\n",
       "    </tr>\n",
       "    <tr>\n",
       "      <th>47</th>\n",
       "      <td>Gurpreet</td>\n",
       "      <td>M</td>\n",
       "      <td>Kolkata</td>\n",
       "      <td>Never</td>\n",
       "      <td>Pizza</td>\n",
       "      <td>56</td>\n",
       "    </tr>\n",
       "  </tbody>\n",
       "</table>\n",
       "</div>"
      ],
      "text/plain": [
       "        Name Gender     City Frequency   Item  Spends\n",
       "3       Suri      M  Kolkata   Monthly  Pizza      56\n",
       "7    Radhika      F   Mumbai   Monthly  Pizza      43\n",
       "10     Sonal      F     Pune   Monthly  Pizza      89\n",
       "16     Pooja      F  Chennai     Daily  Pizza      34\n",
       "17      Neha      F     Pune     Never  Pizza      88\n",
       "24    Anjani      F     Pune     Never  Pizza      27\n",
       "30  Bijurika      F   Ranchi    Weekly  Pizza      90\n",
       "37    Sachin      M   Mumbai     Daily  Pizza      99\n",
       "40     Rohit      M  Chennai      Once  Pizza      54\n",
       "45    Meenal      F     Pune   Monthly  Pizza      67\n",
       "47  Gurpreet      M  Kolkata     Never  Pizza      56"
      ]
     },
     "execution_count": 35,
     "metadata": {},
     "output_type": "execute_result"
    }
   ],
   "source": [
    "food[pizza_filter]"
   ]
  },
  {
   "cell_type": "markdown",
   "id": "e073c424",
   "metadata": {},
   "source": [
    "## 16. Filtering data based on multiple conditions"
   ]
  },
  {
   "cell_type": "code",
   "execution_count": 38,
   "id": "2c31345d",
   "metadata": {},
   "outputs": [
    {
     "data": {
      "text/html": [
       "<div>\n",
       "<style scoped>\n",
       "    .dataframe tbody tr th:only-of-type {\n",
       "        vertical-align: middle;\n",
       "    }\n",
       "\n",
       "    .dataframe tbody tr th {\n",
       "        vertical-align: top;\n",
       "    }\n",
       "\n",
       "    .dataframe thead th {\n",
       "        text-align: right;\n",
       "    }\n",
       "</style>\n",
       "<table border=\"1\" class=\"dataframe\">\n",
       "  <thead>\n",
       "    <tr style=\"text-align: right;\">\n",
       "      <th></th>\n",
       "      <th>Name</th>\n",
       "      <th>Gender</th>\n",
       "      <th>City</th>\n",
       "      <th>Frequency</th>\n",
       "      <th>Item</th>\n",
       "      <th>Spends</th>\n",
       "    </tr>\n",
       "  </thead>\n",
       "  <tbody>\n",
       "    <tr>\n",
       "      <th>10</th>\n",
       "      <td>Sonal</td>\n",
       "      <td>F</td>\n",
       "      <td>Pune</td>\n",
       "      <td>Monthly</td>\n",
       "      <td>Pizza</td>\n",
       "      <td>89</td>\n",
       "    </tr>\n",
       "    <tr>\n",
       "      <th>17</th>\n",
       "      <td>Neha</td>\n",
       "      <td>F</td>\n",
       "      <td>Pune</td>\n",
       "      <td>Never</td>\n",
       "      <td>Pizza</td>\n",
       "      <td>88</td>\n",
       "    </tr>\n",
       "    <tr>\n",
       "      <th>24</th>\n",
       "      <td>Anjani</td>\n",
       "      <td>F</td>\n",
       "      <td>Pune</td>\n",
       "      <td>Never</td>\n",
       "      <td>Pizza</td>\n",
       "      <td>27</td>\n",
       "    </tr>\n",
       "    <tr>\n",
       "      <th>45</th>\n",
       "      <td>Meenal</td>\n",
       "      <td>F</td>\n",
       "      <td>Pune</td>\n",
       "      <td>Monthly</td>\n",
       "      <td>Pizza</td>\n",
       "      <td>67</td>\n",
       "    </tr>\n",
       "  </tbody>\n",
       "</table>\n",
       "</div>"
      ],
      "text/plain": [
       "      Name Gender  City Frequency   Item  Spends\n",
       "10   Sonal      F  Pune   Monthly  Pizza      89\n",
       "17    Neha      F  Pune     Never  Pizza      88\n",
       "24  Anjani      F  Pune     Never  Pizza      27\n",
       "45  Meenal      F  Pune   Monthly  Pizza      67"
      ]
     },
     "execution_count": 38,
     "metadata": {},
     "output_type": "execute_result"
    }
   ],
   "source": [
    "mask1 = food['Item'] == \"Pizza\"\n",
    "mask2 = food['City'] == \"Pune\"\n",
    "\n",
    "food[mask1 & mask2]"
   ]
  },
  {
   "cell_type": "code",
   "execution_count": null,
   "id": "0ea64a6e",
   "metadata": {},
   "outputs": [],
   "source": []
  }
 ],
 "metadata": {
  "kernelspec": {
   "display_name": "Python 3",
   "language": "python",
   "name": "python3"
  },
  "language_info": {
   "codemirror_mode": {
    "name": "ipython",
    "version": 3
   },
   "file_extension": ".py",
   "mimetype": "text/x-python",
   "name": "python",
   "nbconvert_exporter": "python",
   "pygments_lexer": "ipython3",
   "version": "3.8.8"
  }
 },
 "nbformat": 4,
 "nbformat_minor": 5
}
